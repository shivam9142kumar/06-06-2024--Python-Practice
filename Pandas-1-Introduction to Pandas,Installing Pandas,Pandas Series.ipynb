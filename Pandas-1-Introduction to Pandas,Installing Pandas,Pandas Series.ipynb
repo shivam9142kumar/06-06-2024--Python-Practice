{
 "cells": [
  {
   "cell_type": "code",
   "execution_count": 1,
   "metadata": {},
   "outputs": [
    {
     "name": "stdout",
     "output_type": "stream",
     "text": [
      "Series from list:\n",
      "a    10\n",
      "b    20\n",
      "c    30\n",
      "d    40\n",
      "dtype: int64\n"
     ]
    }
   ],
   "source": [
    "import pandas as pd\n",
    "\n",
    "# Create a Series from a list\n",
    "data = [10, 20, 30, 40]\n",
    "s = pd.Series(data, index=[\"a\", \"b\", \"c\", \"d\"])\n",
    "\n",
    "print(\"Series from list:\")\n",
    "print(s)"
   ]
  },
  {
   "cell_type": "code",
   "execution_count": 2,
   "metadata": {},
   "outputs": [
    {
     "name": "stdout",
     "output_type": "stream",
     "text": [
      "Series from array:\n",
      "x    1.1\n",
      "y    2.2\n",
      "z    3.3\n",
      "w    4.4\n",
      "dtype: float64\n"
     ]
    }
   ],
   "source": [
    "import numpy as np\n",
    "\n",
    "# Create a Series from a NumPy array\n",
    "array_data = np.array([1.1, 2.2, 3.3, 4.4])\n",
    "s_from_array = pd.Series(array_data, index=[\"x\", \"y\", \"z\", \"w\"])\n",
    "\n",
    "print(\"Series from array:\")\n",
    "print(s_from_array)"
   ]
  },
  {
   "cell_type": "code",
   "execution_count": 3,
   "metadata": {},
   "outputs": [
    {
     "name": "stdout",
     "output_type": "stream",
     "text": [
      "Series from dictionary:\n",
      "Apple     100\n",
      "Banana    200\n",
      "Cherry    300\n",
      "dtype: int64\n"
     ]
    }
   ],
   "source": [
    "# Create a Series from a dictionary\n",
    "dict_data = {\"Apple\": 100, \"Banana\": 200, \"Cherry\": 300}\n",
    "s_from_dict = pd.Series(dict_data)\n",
    "\n",
    "print(\"Series from dictionary:\")\n",
    "print(s_from_dict)"
   ]
  },
  {
   "cell_type": "code",
   "execution_count": 4,
   "metadata": {},
   "outputs": [
    {
     "name": "stdout",
     "output_type": "stream",
     "text": [
      "Index: Index(['a', 'b', 'c', 'd'], dtype='object')\n",
      "Values: [10 20 30 40]\n",
      "Data type: int64\n",
      "Size: 4\n"
     ]
    }
   ],
   "source": [
    "# Example: Exploring Series attributes\n",
    "print(\"Index:\", s.index)\n",
    "print(\"Values:\", s.values)\n",
    "print(\"Data type:\", s.dtype)\n",
    "print(\"Size:\", s.size)"
   ]
  },
  {
   "cell_type": "code",
   "execution_count": 5,
   "metadata": {},
   "outputs": [
    {
     "name": "stdout",
     "output_type": "stream",
     "text": [
      "First two elements: a    10\n",
      "b    20\n",
      "dtype: int64\n",
      "Last two elements: c    30\n",
      "d    40\n",
      "dtype: int64\n",
      "Sorted values: a    10\n",
      "b    20\n",
      "c    30\n",
      "d    40\n",
      "dtype: int64\n",
      "Mean of the Series: 25.0\n"
     ]
    }
   ],
   "source": [
    "# Example: Using Series methods\n",
    "print(\"First two elements:\", s.head(2))\n",
    "print(\"Last two elements:\", s.tail(2))\n",
    "print(\"Sorted values:\", s.sort_values())\n",
    "print(\"Mean of the Series:\", s.mean())"
   ]
  },
  {
   "cell_type": "code",
   "execution_count": 6,
   "metadata": {},
   "outputs": [
    {
     "name": "stdout",
     "output_type": "stream",
     "text": [
      "day1    420\n",
      "day2    380\n",
      "dtype: int64\n"
     ]
    }
   ],
   "source": [
    "import pandas as pd\n",
    "\n",
    "calories = {\"day1\": 420, \"day2\": 380, \"day3\": 390}\n",
    "\n",
    "myvar = pd.Series(calories, index = [\"day1\", \"day2\"])\n",
    "\n",
    "print(myvar)"
   ]
  }
 ],
 "metadata": {
  "kernelspec": {
   "display_name": "Python 3",
   "language": "python",
   "name": "python3"
  },
  "language_info": {
   "codemirror_mode": {
    "name": "ipython",
    "version": 3
   },
   "file_extension": ".py",
   "mimetype": "text/x-python",
   "name": "python",
   "nbconvert_exporter": "python",
   "pygments_lexer": "ipython3",
   "version": "3.12.4"
  }
 },
 "nbformat": 4,
 "nbformat_minor": 2
}
